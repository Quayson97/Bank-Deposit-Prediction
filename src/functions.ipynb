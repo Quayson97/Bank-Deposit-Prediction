{
 "cells": [
  {
   "cell_type": "markdown",
   "id": "0edad007",
   "metadata": {},
   "source": [
    "#### Loadng Data and Preprocessing"
   ]
  },
  {
   "cell_type": "code",
   "execution_count": null,
   "id": "5eb8b412",
   "metadata": {},
   "outputs": [],
   "source": [
    "import pandas as pd\n",
    "\n",
    "def load_data(path=\"../data/bank-full.csv\", delimiter=\";\"):\n",
    "    \"\"\"\n",
    "    Load the cleaned salary data from a CSV file.\n",
    "    Args:\n",
    "        path (str): The file path to the cleaned salary data CSV file.\n",
    "    Returns:\n",
    "        df (dataframe): The pandas dataframe of the dataset\n",
    "    \"\"\"\n",
    "\n",
    "    df = pd.read_csv(path, delimiter=delimiter)\n",
    "    return df \n",
    "    "
   ]
  },
  {
   "cell_type": "code",
   "execution_count": null,
   "id": "b43a304f",
   "metadata": {},
   "outputs": [],
   "source": [
    "from sklearn.preprocessing import LabelEncoder\n",
    "from sklearn.model_selection import train_test_split\n",
    "from sklearn.preprocessing import StandardScaler\n",
    "\n",
    "def preprocessing(df):\n",
    "    \"\"\"\n",
    "    \n",
    "    \"\"\"\n",
    "    # Map categorical values \n",
    "    df['month'] = df['month'].map({\n",
    "        'jan':1, 'feb':2, 'mar':3, 'apr':4,\n",
    "        'may':5, 'jun':6, 'jul':7, 'aug':8,\n",
    "        'sep':9, 'oct':10, 'nov':11, 'dec':12\n",
    "    })\n",
    "    \n",
    "    df['loan'] = df['loan'].map({'yes':1, 'no':0})\n",
    "    df['y'] = df['y'].map({'yes':1, 'no':0})\n",
    "\n",
    "    # Encode remaining categorical columns\n",
    "    for col in df.columns:\n",
    "        if df[col].dtype == 'O':\n",
    "            le = LabelEncoder()\n",
    "            df[col] = le.fit_transform(df[col])\n",
    "\n",
    "    # drop the duration column \n",
    "    df.drop('duration', axis=1)\n",
    "    return df"
   ]
  },
  {
   "cell_type": "code",
   "execution_count": 24,
   "id": "f398eb8d",
   "metadata": {},
   "outputs": [],
   "source": [
    "from sklearn.model_selection import train_test_split\n",
    "from sklearn.preprocessing import StandardScaler\n",
    "\n",
    "def data_splitting(df):\n",
    "\n",
    "    # split the data into features and target\n",
    "    X = df.drop('y', axis=1)\n",
    "    y = df['y']\n",
    "    \n",
    "    # Split the data into training and testing \n",
    "    X_train, X_test, y_train, y_test= train_test_split(X, y, test_size =0.1, random_state=42)\n",
    "\n",
    "    # apply standard scaler on the X_train and X_test\n",
    "    scaler = StandardScaler()\n",
    "    X_train_scaled = scaler.fit_transform(X_train)\n",
    "    X_test_scaled = scaler.transfrom(X_test)\n",
    "\n",
    "    return X_train_scaled, X_test_scaled, y_train, y_test"
   ]
  },
  {
   "cell_type": "code",
   "execution_count": 25,
   "id": "b10e72fe",
   "metadata": {},
   "outputs": [],
   "source": [
    "from sklearn.linear_model import LogisticRegression\n",
    "\n",
    "def model_training(X_train_scaled, y_train):\n",
    "    \"\"\"\n",
    "    \"\"\"\n",
    "    # Initialise the model \n",
    "    lr = LogisticRegression()\n",
    "    model = lr.fit(X_train_scaled, y_train)\n",
    "    return model"
   ]
  },
  {
   "cell_type": "code",
   "execution_count": 26,
   "id": "6d494e95",
   "metadata": {},
   "outputs": [],
   "source": [
    "from sklearn.metrics import accuracy_score, roc_auc_score\n",
    "def model_eval(X_test_scaled, y_test):\n",
    "    \"\"\"\n",
    "    \n",
    "    \"\"\"\n",
    "    y_pred = model.predict(X_test_scaled)\n",
    "    y_pred_probbs = model.predict(X_test_scaled)\n",
    "    \n",
    "    metrics={\n",
    "        \"accuracy\": accuracy_score(y_test, y_pred),\n",
    "        \"roc_auc\": roc_auc_score(y_test, y_pred_probbs)\n",
    "    }\n",
    "\n",
    "    return metrics"
   ]
  }
 ],
 "metadata": {
  "kernelspec": {
   "display_name": "stock-env (3.13.5)",
   "language": "python",
   "name": "python3"
  },
  "language_info": {
   "codemirror_mode": {
    "name": "ipython",
    "version": 3
   },
   "file_extension": ".py",
   "mimetype": "text/x-python",
   "name": "python",
   "nbconvert_exporter": "python",
   "pygments_lexer": "ipython3",
   "version": "3.13.5"
  }
 },
 "nbformat": 4,
 "nbformat_minor": 5
}
